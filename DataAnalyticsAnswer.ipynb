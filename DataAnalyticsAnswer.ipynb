{
 "cells": [
  {
   "cell_type": "code",
   "execution_count": null,
   "metadata": {},
   "outputs": [
    {
     "ename": "",
     "evalue": "",
     "output_type": "error",
     "traceback": [
      "\u001b[1;31mRunning cells with 'c:\\Users\\sheju\\AppData\\Local\\Programs\\Python\\Python310\\python.exe' requires the ipykernel package.\n",
      "\u001b[1;31mRun the following command to install 'ipykernel' into the Python environment. \n",
      "\u001b[1;31mCommand: 'c:/Users/sheju/AppData/Local/Programs/Python/Python310/python.exe -m pip install ipykernel -U --user --force-reinstall'"
     ]
    }
   ],
   "source": [
    "import os\n",
    "import pandas as pd\n",
    "import matplotlib.pyplot as plt\n",
    "# Read Inventory dataset, Write InventoryDataset.xlsx Path below Inside ( )\n",
    "inventory_data = pd.read_excel(\"InventoryDataset.xlsx\")\n",
    "# Read New Inventory dataset, Write NewInventory.xlsx Path below Inside ( )\n",
    "new_inventory_data = pd.read_excel(\"NewInventory.xlsx\")\n",
    "# Merge datasets on Item Number\n",
    "merged_data = pd.merge(inventory_data, new_inventory_data, how='outer', on='Item Number')\n",
    "# Pivot the data to get inventory levels at different dates\n",
    "inventory_levels = merged_data.pivot_table(index='Item Number', columns='Date', values='Inventory', fill_value=0)\n",
    "# Plot total monthly inventory levels\n",
    "monthly_totals = inventory_levels.resample('M', axis=1).sum()\n",
    "monthly_totals.plot(kind='bar', stacked=True)\n",
    "plt.xlabel('Month')\n",
    "plt.ylabel('Total Inventory')\n",
    "plt.title('Total Monthly Inventory Levels')\n",
    "plt.show()\n",
    "# Save the DataFrame to a Excel file\n",
    "inventory_levels.to_excel('inventory_levels.xlsx')\n"
   ]
  }
 ],
 "metadata": {
  "kernelspec": {
   "display_name": "Python 3",
   "language": "python",
   "name": "python3"
  },
  "language_info": {
   "name": "python",
   "version": "3.10.5"
  }
 },
 "nbformat": 4,
 "nbformat_minor": 2
}
